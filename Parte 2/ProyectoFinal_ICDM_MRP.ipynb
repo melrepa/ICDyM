{
 "cells": [
  {
   "cell_type": "markdown",
   "metadata": {
    "id": "z5ltqjj_w3Rj"
   },
   "source": [
    "# Proyecto Final: Creación de base de datos, conexión y análisis utilizando herramientas de Python.\n",
    "\n",
    "Universidad de Sonora\n",
    "Maestría en Ciencia de Datos\n",
    "Introducción a la Ciencia de Datos y sus Metodologías\n",
    "\n",
    "\n",
    "Melissa Reyes Paz\n",
    "\n",
    "Dr. Juan Pablo Soto Barrera\n",
    "\n",
    "***\n",
    "\n",
    "**Instrucciones.**\n",
    "\n",
    "1. Crear una base de datos por medio del manejador MySql, SQLite, o PostgreSQL que se componga de una o varias tablas. \n",
    "2. Por medio de un Jupyter Notebook crear una conexión a la base de datos. Realizar una consulta a la base de datos desde el notebook.\n",
    "3. Con los datos disponibles en el Notebook, crear una o más gráficas que representen la información descargada.\n",
    "4. Documentar su trabajo en formato libre pero de manera comprensiva. (Se documentó el trabajo en este Notebook.)\n",
    "\n",
    "***"
   ]
  },
  {
   "cell_type": "markdown",
   "metadata": {
    "id": "UUovfWq_w3Rs"
   },
   "source": [
    "## Descripción de la fuente de datos."
   ]
  },
  {
   "cell_type": "markdown",
   "metadata": {
    "id": "olsFZhysw3Rt"
   },
   "source": [
    "En este proyecto se hará uso de la información sobre crímenes cometidos en México, por entidad, de 2015 a agosto de 2022 disponibles en los [Datos abiertos de Incidencia delictiva (SESNSP)](https://www.gob.mx/sesnsp/acciones-y-programas/datos-abiertos-de-incidencia-delictiva).\n",
    "\n",
    "La tabla se compone de las columnas que se describen en el siguiente diccionario.\n",
    "\n",
    "| Variable             | Etiqueta                                       | Descripción de la variable                                                               | Tipo de variable     |\n",
    "|----------------------|------------------------------------------------|-----------------------------------------------------------------------------------------|----------------------|\n",
    "| Año                 | Año                                         | Año de registro de las averiguaciones previas y/o carpetas de investigación.                                                  | Int               |\n",
    "| Clave_Ent                  | Clave de la entidad                                           | Clave de la entidad, según el Marco Geoestadístico Nacional (MGN) del Instituto Nacional de Geografía y Estadística (INEGI).                                                    | Int  |\n",
    "| Entidad                  | Entidad                                           | Entidad federativa de registro de las averiguaciones previas y/o carpetas de investigación.                                                    | String                  |\n",
    "| Bien jurídico afectado       | Bien jurídico afectado                               | Primera clasificación de los delitos en las averiguaciones previas y/o carpetas de investigación.                                      | String             |\n",
    "| Tipo de delito       | Tipo de delito                           | Segunda clasificación de los delitos.                                           | String               |\n",
    "| Subtipo de delito   | Subtipo de delito | Tercera clasificación de los delitos. | String               |\n",
    "| Modalidad       | Cómo se realizó el delito                         | Cuarta clasificación de los delitos.                          | String               |\n",
    "| Total | Total                | Total de registros de las averiguaciones previas y/o carpetas de investigación.                     | Int               |\n"
   ]
  },
  {
   "cell_type": "markdown",
   "metadata": {
    "id": "2yAg8aMLw3Rv"
   },
   "source": [
    "## 1. Crear una base de datos por medio del manejador MySql, SQLite, o PostgreSQL que se componga de una o varias tablas. \n",
    "\n"
   ]
  },
  {
   "cell_type": "markdown",
   "metadata": {
    "id": "NzBa8H2ew3Rz"
   },
   "source": [
    "En MySQL Workbench se crea una base de datos con el nombre 'crimenes'.\n",
    "\n",
    "<img title=\"1\" alt=\"Alt text\" src=\"https://raw.githubusercontent.com/melrepa/ICDyM/main/Parte%202/Im%C3%A1genes%20de%20pasos/01.PNG\" width=\"500\">"
   ]
  },
  {
   "cell_type": "markdown",
   "metadata": {
    "id": "k12g9P4vw3R1"
   },
   "source": [
    "Así es el proceso de la creación de la base de datos.\n",
    "\n",
    "<img title=\"1\" alt=\"Alt text\" src=\"https://raw.githubusercontent.com/melrepa/ICDyM/main/Parte%202/Im%C3%A1genes%20de%20pasos/02.PNG\" width=\"600\">\n",
    "\n",
    "\n",
    "Aparece esta ventana, la cual indica que el proceso ha terminado. \n",
    "\n",
    "<img title=\"1\" alt=\"Alt text\" src=\"https://raw.githubusercontent.com/melrepa/ICDyM/main/Parte%202/Im%C3%A1genes%20de%20pasos/03.PNG\" width=\"600\">\n"
   ]
  },
  {
   "cell_type": "markdown",
   "metadata": {
    "id": "Tph6128xw3R3"
   },
   "source": [
    "Para poder crear una tabla, se utilizó el wizard de MySQL.\n",
    "\n",
    "<img title=\"1\" alt=\"Alt text\" src=\"https://raw.githubusercontent.com/melrepa/ICDyM/main/Parte%202/Im%C3%A1genes%20de%20pasos/04.png\" width=\"500\">"
   ]
  },
  {
   "cell_type": "markdown",
   "metadata": {
    "id": "N2Zbt4EYw3R4"
   },
   "source": [
    "Se seleccionó el archivo CSV.\n",
    "\n",
    "<img title=\"1\" alt=\"Alt text\" src=\"https://raw.githubusercontent.com/melrepa/ICDyM/main/Parte%202/Im%C3%A1genes%20de%20pasos/05.png\" width=\"600\">"
   ]
  },
  {
   "cell_type": "markdown",
   "metadata": {
    "id": "No3SQbOvw3R5"
   },
   "source": [
    "Una vez seleccionado el archivo con el que se trabajó, se nombró la nueva tabla con el nombre 'delitos'.\n",
    "\n",
    "<img title=\"1\" alt=\"Alt text\" src=\"https://raw.githubusercontent.com/melrepa/ICDyM/main/Parte%202/Im%C3%A1genes%20de%20pasos/06.png\" width=\"600\">"
   ]
  },
  {
   "cell_type": "markdown",
   "metadata": {
    "id": "67_CWS3yw3R5"
   },
   "source": [
    "Se verificó que el tipo de cada columna fuera correcto. \n",
    "\n",
    "<img title=\"1\" alt=\"Alt text\" src=\"https://raw.githubusercontent.com/melrepa/ICDyM/main/Parte%202/Im%C3%A1genes%20de%20pasos/07.png\" width=\"600\">"
   ]
  },
  {
   "cell_type": "markdown",
   "metadata": {
    "id": "x2mbLGxVw3R6"
   },
   "source": [
    "Se finalizó la importación en un total de 157.816 segundos, siendo un total de 25,088 registros. \n",
    "<img title=\"1\" alt=\"Alt text\" src=\"https://raw.githubusercontent.com/melrepa/ICDyM/main/Parte%202/Im%C3%A1genes%20de%20pasos/08.png\" width=\"600\">"
   ]
  },
  {
   "cell_type": "markdown",
   "metadata": {
    "id": "WMUTme8Lw3R6"
   },
   "source": [
    "Al descargar el archivo por medio de Wizard, no se coloco de forma correcta lo que es el Primary Key y la columna de index se colocó como \"MyUnkownColumn\".\n",
    "\n",
    "<img title=\"1\" alt=\"Alt text\" src=\"https://raw.githubusercontent.com/melrepa/ICDyM/main/Parte%202/Im%C3%A1genes%20de%20pasos/09.png\" width=\"600\">"
   ]
  },
  {
   "cell_type": "markdown",
   "metadata": {
    "id": "xzUEbKAxw3R7"
   },
   "source": [
    "Por esta razón, fue necesario modificarlo por medio de la opción \"Alter table\", se colocó la columna \"MyUnknownColumn\" como el primary key (PK) y se le cambió el nombre a \"ID\".\n",
    "\n",
    "<img title=\"1\" alt=\"Alt text\" src=\"https://raw.githubusercontent.com/melrepa/ICDyM/main/Parte%202/Im%C3%A1genes%20de%20pasos/10.png\" width=\"600\">"
   ]
  },
  {
   "cell_type": "markdown",
   "metadata": {
    "id": "Q-m1PFMjw3R7"
   },
   "source": [
    "Así es como se completan los cambios.\n",
    "\n",
    "<img title=\"1\" alt=\"Alt text\" src=\"https://raw.githubusercontent.com/melrepa/ICDyM/main/Parte%202/Im%C3%A1genes%20de%20pasos/11.png\" width=\"600\">"
   ]
  },
  {
   "cell_type": "markdown",
   "metadata": {
    "id": "3ms7WsSlw3R8"
   },
   "source": [
    "Así es como queda la tabla de la base de datos para poder continuar con el proyecto.\n",
    "<img title=\"1\" alt=\"Alt text\" src=\"https://raw.githubusercontent.com/melrepa/ICDyM/main/Parte%202/Im%C3%A1genes%20de%20pasos/12.png\" width=\"600\">"
   ]
  },
  {
   "cell_type": "markdown",
   "metadata": {
    "id": "OCrhebt_w3R8"
   },
   "source": [
    "## 2. Por medio de un Jupyter Notebook crear una conexión a la base de datos. Realizar una consulta a la base de datos desde el notebook."
   ]
  },
  {
   "cell_type": "markdown",
   "metadata": {
    "id": "vEFpORxGw3R9"
   },
   "source": [
    "Primero se importan las librerías necesarias."
   ]
  },
  {
   "cell_type": "code",
   "execution_count": 1,
   "metadata": {
    "executionInfo": {
     "elapsed": 674,
     "status": "ok",
     "timestamp": 1669167534072,
     "user": {
      "displayName": "Melissa Reyes Paz",
      "userId": "17636569366092975523"
     },
     "user_tz": 420
    },
    "id": "czrY16Zww3R-"
   },
   "outputs": [],
   "source": [
    "import pymysql\n",
    "import matplotlib.pyplot as plt\n",
    "import pandas as pd"
   ]
  },
  {
   "cell_type": "markdown",
   "metadata": {
    "id": "YIzpe_5Iw3SF"
   },
   "source": [
    "Creamos la conexión a la base de datos."
   ]
  },
  {
   "cell_type": "code",
   "execution_count": 2,
   "metadata": {
    "colab": {
     "base_uri": "https://localhost:8080/",
     "height": 432
    },
    "executionInfo": {
     "elapsed": 245,
     "status": "error",
     "timestamp": 1669169268611,
     "user": {
      "displayName": "Melissa Reyes Paz",
      "userId": "17636569366092975523"
     },
     "user_tz": 420
    },
    "id": "WOv_g5zIw3SH",
    "outputId": "8fdf973a-5556-4373-f164-d98abf9803b7"
   },
   "outputs": [],
   "source": [
    "conn=pymysql.connect(host='localhost',\n",
    "                     port=int(3306),\n",
    "                     user='root',\n",
    "                     password='xxx',\n",
    "                     db='crimenes')"
   ]
  },
  {
   "cell_type": "markdown",
   "metadata": {
    "id": "Q5lczNlDw3SI"
   },
   "source": [
    "Realizamos una consulta para corroborar que se realizó la conexión de manera correcta."
   ]
  },
  {
   "cell_type": "code",
   "execution_count": 3,
   "metadata": {
    "id": "Ih3RT-Mqw3SJ",
    "outputId": "d75bb2a2-2ed5-4cf0-c4e4-583f8d1c14f3"
   },
   "outputs": [
    {
     "name": "stderr",
     "output_type": "stream",
     "text": [
      "C:\\Users\\ghost\\AppData\\Local\\Temp\\ipykernel_32708\\2442912627.py:1: UserWarning: pandas only supports SQLAlchemy connectable (engine/connection) or database string URI or sqlite3 DBAPI2 connection. Other DBAPI2 objects are not tested. Please consider using SQLAlchemy.\n",
      "  dfr=pd.read_sql_query(\"SELECT * FROM crimenes.delitos\", conn, index_col='ID')\n"
     ]
    },
    {
     "data": {
      "text/html": [
       "<div>\n",
       "<style scoped>\n",
       "    .dataframe tbody tr th:only-of-type {\n",
       "        vertical-align: middle;\n",
       "    }\n",
       "\n",
       "    .dataframe tbody tr th {\n",
       "        vertical-align: top;\n",
       "    }\n",
       "\n",
       "    .dataframe thead th {\n",
       "        text-align: right;\n",
       "    }\n",
       "</style>\n",
       "<table border=\"1\" class=\"dataframe\">\n",
       "  <thead>\n",
       "    <tr style=\"text-align: right;\">\n",
       "      <th></th>\n",
       "      <th>Año</th>\n",
       "      <th>Clave_Ent</th>\n",
       "      <th>Entidad</th>\n",
       "      <th>Bien jurídico afectado</th>\n",
       "      <th>Tipo de delito</th>\n",
       "      <th>Subtipo de delito</th>\n",
       "      <th>Modalidad</th>\n",
       "      <th>Total</th>\n",
       "    </tr>\n",
       "    <tr>\n",
       "      <th>ID</th>\n",
       "      <th></th>\n",
       "      <th></th>\n",
       "      <th></th>\n",
       "      <th></th>\n",
       "      <th></th>\n",
       "      <th></th>\n",
       "      <th></th>\n",
       "      <th></th>\n",
       "    </tr>\n",
       "  </thead>\n",
       "  <tbody>\n",
       "    <tr>\n",
       "      <th>0</th>\n",
       "      <td>2015-01-01</td>\n",
       "      <td>1</td>\n",
       "      <td>Aguascalientes</td>\n",
       "      <td>La vida y la Integridad corporal</td>\n",
       "      <td>Homicidio</td>\n",
       "      <td>Homicidio doloso</td>\n",
       "      <td>Con arma de fuego</td>\n",
       "      <td>18</td>\n",
       "    </tr>\n",
       "    <tr>\n",
       "      <th>1</th>\n",
       "      <td>2015-01-01</td>\n",
       "      <td>1</td>\n",
       "      <td>Aguascalientes</td>\n",
       "      <td>La vida y la Integridad corporal</td>\n",
       "      <td>Homicidio</td>\n",
       "      <td>Homicidio doloso</td>\n",
       "      <td>Con arma blanca</td>\n",
       "      <td>5</td>\n",
       "    </tr>\n",
       "    <tr>\n",
       "      <th>2</th>\n",
       "      <td>2015-01-01</td>\n",
       "      <td>1</td>\n",
       "      <td>Aguascalientes</td>\n",
       "      <td>La vida y la Integridad corporal</td>\n",
       "      <td>Homicidio</td>\n",
       "      <td>Homicidio doloso</td>\n",
       "      <td>Con otro elemento</td>\n",
       "      <td>12</td>\n",
       "    </tr>\n",
       "    <tr>\n",
       "      <th>3</th>\n",
       "      <td>2015-01-01</td>\n",
       "      <td>1</td>\n",
       "      <td>Aguascalientes</td>\n",
       "      <td>La vida y la Integridad corporal</td>\n",
       "      <td>Homicidio</td>\n",
       "      <td>Homicidio doloso</td>\n",
       "      <td>No especificado</td>\n",
       "      <td>3</td>\n",
       "    </tr>\n",
       "    <tr>\n",
       "      <th>4</th>\n",
       "      <td>2015-01-01</td>\n",
       "      <td>1</td>\n",
       "      <td>Aguascalientes</td>\n",
       "      <td>La vida y la Integridad corporal</td>\n",
       "      <td>Homicidio</td>\n",
       "      <td>Homicidio culposo</td>\n",
       "      <td>Con arma de fuego</td>\n",
       "      <td>1</td>\n",
       "    </tr>\n",
       "  </tbody>\n",
       "</table>\n",
       "</div>"
      ],
      "text/plain": [
       "          Año  Clave_Ent         Entidad            Bien jurídico afectado  \\\n",
       "ID                                                                           \n",
       "0  2015-01-01          1  Aguascalientes  La vida y la Integridad corporal   \n",
       "1  2015-01-01          1  Aguascalientes  La vida y la Integridad corporal   \n",
       "2  2015-01-01          1  Aguascalientes  La vida y la Integridad corporal   \n",
       "3  2015-01-01          1  Aguascalientes  La vida y la Integridad corporal   \n",
       "4  2015-01-01          1  Aguascalientes  La vida y la Integridad corporal   \n",
       "\n",
       "   Tipo de delito  Subtipo de delito          Modalidad  Total  \n",
       "ID                                                              \n",
       "0       Homicidio   Homicidio doloso  Con arma de fuego     18  \n",
       "1       Homicidio   Homicidio doloso    Con arma blanca      5  \n",
       "2       Homicidio   Homicidio doloso  Con otro elemento     12  \n",
       "3       Homicidio   Homicidio doloso    No especificado      3  \n",
       "4       Homicidio  Homicidio culposo  Con arma de fuego      1  "
      ]
     },
     "execution_count": 3,
     "metadata": {},
     "output_type": "execute_result"
    }
   ],
   "source": [
    "dfr=pd.read_sql_query(\"SELECT * FROM crimenes.delitos\", conn, index_col='ID')\n",
    "\n",
    "dfr.head(5)"
   ]
  },
  {
   "cell_type": "markdown",
   "metadata": {
    "id": "yVSs3VJ-w3SL"
   },
   "source": [
    "Ahora se hará una consulta más específica tomando en cuenta solo los registros referentes a Sonora."
   ]
  },
  {
   "cell_type": "code",
   "execution_count": 4,
   "metadata": {
    "id": "OWEIlnnrw3SL"
   },
   "outputs": [],
   "source": [
    "query='''SELECT * FROM crimenes.delitos\n",
    "        WHERE delitos.Entidad = \"Sonora\"'''"
   ]
  },
  {
   "cell_type": "code",
   "execution_count": 5,
   "metadata": {
    "id": "uGgMcKrLw3SM",
    "outputId": "c8540bbf-ff0f-4621-9388-c63cf2e7e4bb"
   },
   "outputs": [
    {
     "name": "stderr",
     "output_type": "stream",
     "text": [
      "C:\\Users\\ghost\\AppData\\Local\\Temp\\ipykernel_32708\\303640255.py:1: UserWarning: pandas only supports SQLAlchemy connectable (engine/connection) or database string URI or sqlite3 DBAPI2 connection. Other DBAPI2 objects are not tested. Please consider using SQLAlchemy.\n",
      "  dfson=pd.read_sql_query(query, conn, index_col='ID')\n"
     ]
    },
    {
     "data": {
      "text/html": [
       "<div>\n",
       "<style scoped>\n",
       "    .dataframe tbody tr th:only-of-type {\n",
       "        vertical-align: middle;\n",
       "    }\n",
       "\n",
       "    .dataframe tbody tr th {\n",
       "        vertical-align: top;\n",
       "    }\n",
       "\n",
       "    .dataframe thead th {\n",
       "        text-align: right;\n",
       "    }\n",
       "</style>\n",
       "<table border=\"1\" class=\"dataframe\">\n",
       "  <thead>\n",
       "    <tr style=\"text-align: right;\">\n",
       "      <th></th>\n",
       "      <th>Año</th>\n",
       "      <th>Clave_Ent</th>\n",
       "      <th>Entidad</th>\n",
       "      <th>Bien jurídico afectado</th>\n",
       "      <th>Tipo de delito</th>\n",
       "      <th>Subtipo de delito</th>\n",
       "      <th>Modalidad</th>\n",
       "      <th>Total</th>\n",
       "    </tr>\n",
       "    <tr>\n",
       "      <th>ID</th>\n",
       "      <th></th>\n",
       "      <th></th>\n",
       "      <th></th>\n",
       "      <th></th>\n",
       "      <th></th>\n",
       "      <th></th>\n",
       "      <th></th>\n",
       "      <th></th>\n",
       "    </tr>\n",
       "  </thead>\n",
       "  <tbody>\n",
       "    <tr>\n",
       "      <th>2450</th>\n",
       "      <td>2015-01-01</td>\n",
       "      <td>26</td>\n",
       "      <td>Sonora</td>\n",
       "      <td>La vida y la Integridad corporal</td>\n",
       "      <td>Homicidio</td>\n",
       "      <td>Homicidio doloso</td>\n",
       "      <td>Con arma de fuego</td>\n",
       "      <td>341</td>\n",
       "    </tr>\n",
       "    <tr>\n",
       "      <th>2451</th>\n",
       "      <td>2015-01-01</td>\n",
       "      <td>26</td>\n",
       "      <td>Sonora</td>\n",
       "      <td>La vida y la Integridad corporal</td>\n",
       "      <td>Homicidio</td>\n",
       "      <td>Homicidio doloso</td>\n",
       "      <td>Con arma blanca</td>\n",
       "      <td>94</td>\n",
       "    </tr>\n",
       "    <tr>\n",
       "      <th>2452</th>\n",
       "      <td>2015-01-01</td>\n",
       "      <td>26</td>\n",
       "      <td>Sonora</td>\n",
       "      <td>La vida y la Integridad corporal</td>\n",
       "      <td>Homicidio</td>\n",
       "      <td>Homicidio doloso</td>\n",
       "      <td>Con otro elemento</td>\n",
       "      <td>154</td>\n",
       "    </tr>\n",
       "    <tr>\n",
       "      <th>2453</th>\n",
       "      <td>2015-01-01</td>\n",
       "      <td>26</td>\n",
       "      <td>Sonora</td>\n",
       "      <td>La vida y la Integridad corporal</td>\n",
       "      <td>Homicidio</td>\n",
       "      <td>Homicidio doloso</td>\n",
       "      <td>No especificado</td>\n",
       "      <td>0</td>\n",
       "    </tr>\n",
       "    <tr>\n",
       "      <th>2454</th>\n",
       "      <td>2015-01-01</td>\n",
       "      <td>26</td>\n",
       "      <td>Sonora</td>\n",
       "      <td>La vida y la Integridad corporal</td>\n",
       "      <td>Homicidio</td>\n",
       "      <td>Homicidio culposo</td>\n",
       "      <td>Con arma de fuego</td>\n",
       "      <td>0</td>\n",
       "    </tr>\n",
       "  </tbody>\n",
       "</table>\n",
       "</div>"
      ],
      "text/plain": [
       "            Año  Clave_Ent Entidad            Bien jurídico afectado  \\\n",
       "ID                                                                     \n",
       "2450 2015-01-01         26  Sonora  La vida y la Integridad corporal   \n",
       "2451 2015-01-01         26  Sonora  La vida y la Integridad corporal   \n",
       "2452 2015-01-01         26  Sonora  La vida y la Integridad corporal   \n",
       "2453 2015-01-01         26  Sonora  La vida y la Integridad corporal   \n",
       "2454 2015-01-01         26  Sonora  La vida y la Integridad corporal   \n",
       "\n",
       "     Tipo de delito  Subtipo de delito          Modalidad  Total  \n",
       "ID                                                                \n",
       "2450      Homicidio   Homicidio doloso  Con arma de fuego    341  \n",
       "2451      Homicidio   Homicidio doloso    Con arma blanca     94  \n",
       "2452      Homicidio   Homicidio doloso  Con otro elemento    154  \n",
       "2453      Homicidio   Homicidio doloso    No especificado      0  \n",
       "2454      Homicidio  Homicidio culposo  Con arma de fuego      0  "
      ]
     },
     "execution_count": 5,
     "metadata": {},
     "output_type": "execute_result"
    }
   ],
   "source": [
    "dfson=pd.read_sql_query(query, conn, index_col='ID')\n",
    "\n",
    "dfson.head(5)"
   ]
  },
  {
   "cell_type": "markdown",
   "metadata": {
    "id": "-PeFv5KRw3SM"
   },
   "source": [
    "## 3. Con los datos disponibles en el Notebook, crear una o más gráficas que representen la información descargada."
   ]
  },
  {
   "cell_type": "markdown",
   "metadata": {
    "id": "pfzQY1sCw3SN"
   },
   "source": [
    "Se hizo una gráfica de barras de los años con el total de delitos denunciados en Sonora."
   ]
  },
  {
   "cell_type": "code",
   "execution_count": 6,
   "metadata": {
    "id": "UocNvuy8w3SN",
    "outputId": "e5f5bdbf-aa0c-426f-daeb-e4385753ef6a"
   },
   "outputs": [
    {
     "name": "stderr",
     "output_type": "stream",
     "text": [
      "C:\\Users\\ghost\\AppData\\Local\\Temp\\ipykernel_32708\\596401626.py:1: FutureWarning: The default value of numeric_only in DataFrameGroupBy.sum is deprecated. In a future version, numeric_only will default to False. Either specify numeric_only or select only columns which should be valid for the function.\n",
      "  delit= dfson.groupby(\"Año\").sum()[\"Total\"].reset_index()\n"
     ]
    },
    {
     "data": {
      "text/html": [
       "<div>\n",
       "<style scoped>\n",
       "    .dataframe tbody tr th:only-of-type {\n",
       "        vertical-align: middle;\n",
       "    }\n",
       "\n",
       "    .dataframe tbody tr th {\n",
       "        vertical-align: top;\n",
       "    }\n",
       "\n",
       "    .dataframe thead th {\n",
       "        text-align: right;\n",
       "    }\n",
       "</style>\n",
       "<table border=\"1\" class=\"dataframe\">\n",
       "  <thead>\n",
       "    <tr style=\"text-align: right;\">\n",
       "      <th></th>\n",
       "      <th>Año</th>\n",
       "      <th>Total</th>\n",
       "    </tr>\n",
       "  </thead>\n",
       "  <tbody>\n",
       "    <tr>\n",
       "      <th>0</th>\n",
       "      <td>2015-01-01</td>\n",
       "      <td>28659</td>\n",
       "    </tr>\n",
       "    <tr>\n",
       "      <th>1</th>\n",
       "      <td>2016-01-01</td>\n",
       "      <td>39423</td>\n",
       "    </tr>\n",
       "    <tr>\n",
       "      <th>2</th>\n",
       "      <td>2017-01-01</td>\n",
       "      <td>25969</td>\n",
       "    </tr>\n",
       "    <tr>\n",
       "      <th>3</th>\n",
       "      <td>2018-01-01</td>\n",
       "      <td>18197</td>\n",
       "    </tr>\n",
       "    <tr>\n",
       "      <th>4</th>\n",
       "      <td>2019-01-01</td>\n",
       "      <td>23438</td>\n",
       "    </tr>\n",
       "    <tr>\n",
       "      <th>5</th>\n",
       "      <td>2020-01-01</td>\n",
       "      <td>31090</td>\n",
       "    </tr>\n",
       "    <tr>\n",
       "      <th>6</th>\n",
       "      <td>2021-01-01</td>\n",
       "      <td>37301</td>\n",
       "    </tr>\n",
       "    <tr>\n",
       "      <th>7</th>\n",
       "      <td>2022-01-01</td>\n",
       "      <td>22195</td>\n",
       "    </tr>\n",
       "  </tbody>\n",
       "</table>\n",
       "</div>"
      ],
      "text/plain": [
       "         Año  Total\n",
       "0 2015-01-01  28659\n",
       "1 2016-01-01  39423\n",
       "2 2017-01-01  25969\n",
       "3 2018-01-01  18197\n",
       "4 2019-01-01  23438\n",
       "5 2020-01-01  31090\n",
       "6 2021-01-01  37301\n",
       "7 2022-01-01  22195"
      ]
     },
     "execution_count": 6,
     "metadata": {},
     "output_type": "execute_result"
    }
   ],
   "source": [
    "delit= dfson.groupby(\"Año\").sum()[\"Total\"].reset_index()\n",
    "        \n",
    "delit"
   ]
  },
  {
   "cell_type": "code",
   "execution_count": 7,
   "metadata": {},
   "outputs": [
    {
     "data": {
      "text/plain": [
       "<AxesSubplot: xlabel='Año'>"
      ]
     },
     "execution_count": 7,
     "metadata": {},
     "output_type": "execute_result"
    },
    {
     "data": {
      "image/png": "[encoded data removed]",
      "text/plain": [
       "<Figure size 640x480 with 1 Axes>"
      ]
     },
     "metadata": {},
     "output_type": "display_data"
    }
   ],
   "source": [
    "delit.plot.bar(x=\"Año\",y=\"Total\")"
   ]
  },
  {
   "cell_type": "markdown",
   "metadata": {
    "id": "vzvgLF4Dw3SO"
   },
   "source": [
    "También se hizo una gráfica de barras con el total de delitos cometidos por tipo de delito en Sonora."
   ]
  },
  {
   "cell_type": "code",
   "execution_count": 8,
   "metadata": {
    "id": "i5YH_yB_w3SO",
    "outputId": "685b17c1-2850-4c31-81fd-7b446af4f02e"
   },
   "outputs": [
    {
     "name": "stderr",
     "output_type": "stream",
     "text": [
      "C:\\Users\\ghost\\AppData\\Local\\Temp\\ipykernel_32708\\4138624242.py:1: FutureWarning: The default value of numeric_only in DataFrameGroupBy.sum is deprecated. In a future version, numeric_only will default to False. Either specify numeric_only or select only columns which should be valid for the function.\n",
      "  typed= dfson.groupby(\"Tipo de delito\").sum()[\"Total\"].reset_index().sort_values(by=\"Total\", ascending=False)\n"
     ]
    },
    {
     "data": {
      "text/html": [
       "<div>\n",
       "<style scoped>\n",
       "    .dataframe tbody tr th:only-of-type {\n",
       "        vertical-align: middle;\n",
       "    }\n",
       "\n",
       "    .dataframe tbody tr th {\n",
       "        vertical-align: top;\n",
       "    }\n",
       "\n",
       "    .dataframe thead th {\n",
       "        text-align: right;\n",
       "    }\n",
       "</style>\n",
       "<table border=\"1\" class=\"dataframe\">\n",
       "  <thead>\n",
       "    <tr style=\"text-align: right;\">\n",
       "      <th></th>\n",
       "      <th>Tipo de delito</th>\n",
       "      <th>Total</th>\n",
       "    </tr>\n",
       "  </thead>\n",
       "  <tbody>\n",
       "    <tr>\n",
       "      <th>32</th>\n",
       "      <td>Robo</td>\n",
       "      <td>74903</td>\n",
       "    </tr>\n",
       "    <tr>\n",
       "      <th>39</th>\n",
       "      <td>Violencia familiar</td>\n",
       "      <td>31015</td>\n",
       "    </tr>\n",
       "    <tr>\n",
       "      <th>22</th>\n",
       "      <td>Lesiones</td>\n",
       "      <td>18436</td>\n",
       "    </tr>\n",
       "    <tr>\n",
       "      <th>21</th>\n",
       "      <td>Incumplimiento de obligaciones de asistencia f...</td>\n",
       "      <td>16025</td>\n",
       "    </tr>\n",
       "    <tr>\n",
       "      <th>8</th>\n",
       "      <td>Daño a la propiedad</td>\n",
       "      <td>15518</td>\n",
       "    </tr>\n",
       "    <tr>\n",
       "      <th>23</th>\n",
       "      <td>Narcomenudeo</td>\n",
       "      <td>14920</td>\n",
       "    </tr>\n",
       "    <tr>\n",
       "      <th>27</th>\n",
       "      <td>Otros delitos del Fuero Común</td>\n",
       "      <td>12508</td>\n",
       "    </tr>\n",
       "    <tr>\n",
       "      <th>18</th>\n",
       "      <td>Homicidio</td>\n",
       "      <td>10605</td>\n",
       "    </tr>\n",
       "    <tr>\n",
       "      <th>5</th>\n",
       "      <td>Amenazas</td>\n",
       "      <td>6758</td>\n",
       "    </tr>\n",
       "    <tr>\n",
       "      <th>17</th>\n",
       "      <td>Fraude</td>\n",
       "      <td>5068</td>\n",
       "    </tr>\n",
       "    <tr>\n",
       "      <th>2</th>\n",
       "      <td>Abuso sexual</td>\n",
       "      <td>3475</td>\n",
       "    </tr>\n",
       "    <tr>\n",
       "      <th>28</th>\n",
       "      <td>Otros delitos que atentan contra la libertad p...</td>\n",
       "      <td>2612</td>\n",
       "    </tr>\n",
       "    <tr>\n",
       "      <th>10</th>\n",
       "      <td>Despojo</td>\n",
       "      <td>2436</td>\n",
       "    </tr>\n",
       "    <tr>\n",
       "      <th>1</th>\n",
       "      <td>Abuso de confianza</td>\n",
       "      <td>1963</td>\n",
       "    </tr>\n",
       "    <tr>\n",
       "      <th>4</th>\n",
       "      <td>Allanamiento de morada</td>\n",
       "      <td>1800</td>\n",
       "    </tr>\n",
       "    <tr>\n",
       "      <th>37</th>\n",
       "      <td>Violación simple</td>\n",
       "      <td>1560</td>\n",
       "    </tr>\n",
       "    <tr>\n",
       "      <th>30</th>\n",
       "      <td>Otros delitos que atentan contra la vida y la ...</td>\n",
       "      <td>1110</td>\n",
       "    </tr>\n",
       "    <tr>\n",
       "      <th>24</th>\n",
       "      <td>Otros delitos contra el patrimonio</td>\n",
       "      <td>819</td>\n",
       "    </tr>\n",
       "    <tr>\n",
       "      <th>9</th>\n",
       "      <td>Delitos cometidos por servidores públicos</td>\n",
       "      <td>576</td>\n",
       "    </tr>\n",
       "    <tr>\n",
       "      <th>29</th>\n",
       "      <td>Otros delitos que atentan contra la libertad y...</td>\n",
       "      <td>543</td>\n",
       "    </tr>\n",
       "    <tr>\n",
       "      <th>7</th>\n",
       "      <td>Corrupción de menores</td>\n",
       "      <td>417</td>\n",
       "    </tr>\n",
       "    <tr>\n",
       "      <th>13</th>\n",
       "      <td>Extorsión</td>\n",
       "      <td>399</td>\n",
       "    </tr>\n",
       "    <tr>\n",
       "      <th>36</th>\n",
       "      <td>Violación equiparada</td>\n",
       "      <td>377</td>\n",
       "    </tr>\n",
       "    <tr>\n",
       "      <th>14</th>\n",
       "      <td>Falsedad</td>\n",
       "      <td>359</td>\n",
       "    </tr>\n",
       "    <tr>\n",
       "      <th>25</th>\n",
       "      <td>Otros delitos contra la familia</td>\n",
       "      <td>353</td>\n",
       "    </tr>\n",
       "    <tr>\n",
       "      <th>35</th>\n",
       "      <td>Tráfico de menores</td>\n",
       "      <td>340</td>\n",
       "    </tr>\n",
       "    <tr>\n",
       "      <th>15</th>\n",
       "      <td>Falsificación</td>\n",
       "      <td>301</td>\n",
       "    </tr>\n",
       "    <tr>\n",
       "      <th>26</th>\n",
       "      <td>Otros delitos contra la sociedad</td>\n",
       "      <td>293</td>\n",
       "    </tr>\n",
       "    <tr>\n",
       "      <th>3</th>\n",
       "      <td>Acoso sexual</td>\n",
       "      <td>272</td>\n",
       "    </tr>\n",
       "    <tr>\n",
       "      <th>16</th>\n",
       "      <td>Feminicidio</td>\n",
       "      <td>242</td>\n",
       "    </tr>\n",
       "    <tr>\n",
       "      <th>31</th>\n",
       "      <td>Rapto</td>\n",
       "      <td>60</td>\n",
       "    </tr>\n",
       "    <tr>\n",
       "      <th>19</th>\n",
       "      <td>Hostigamiento sexual</td>\n",
       "      <td>58</td>\n",
       "    </tr>\n",
       "    <tr>\n",
       "      <th>33</th>\n",
       "      <td>Secuestro</td>\n",
       "      <td>49</td>\n",
       "    </tr>\n",
       "    <tr>\n",
       "      <th>0</th>\n",
       "      <td>Aborto</td>\n",
       "      <td>39</td>\n",
       "    </tr>\n",
       "    <tr>\n",
       "      <th>38</th>\n",
       "      <td>Violencia de género en todas sus modalidades d...</td>\n",
       "      <td>29</td>\n",
       "    </tr>\n",
       "    <tr>\n",
       "      <th>12</th>\n",
       "      <td>Evasión de presos</td>\n",
       "      <td>10</td>\n",
       "    </tr>\n",
       "    <tr>\n",
       "      <th>6</th>\n",
       "      <td>Contra el medio ambiente</td>\n",
       "      <td>9</td>\n",
       "    </tr>\n",
       "    <tr>\n",
       "      <th>11</th>\n",
       "      <td>Electorales</td>\n",
       "      <td>6</td>\n",
       "    </tr>\n",
       "    <tr>\n",
       "      <th>20</th>\n",
       "      <td>Incesto</td>\n",
       "      <td>5</td>\n",
       "    </tr>\n",
       "    <tr>\n",
       "      <th>34</th>\n",
       "      <td>Trata de personas</td>\n",
       "      <td>4</td>\n",
       "    </tr>\n",
       "  </tbody>\n",
       "</table>\n",
       "</div>"
      ],
      "text/plain": [
       "                                       Tipo de delito  Total\n",
       "32                                               Robo  74903\n",
       "39                                 Violencia familiar  31015\n",
       "22                                           Lesiones  18436\n",
       "21  Incumplimiento de obligaciones de asistencia f...  16025\n",
       "8                                 Daño a la propiedad  15518\n",
       "23                                       Narcomenudeo  14920\n",
       "27                      Otros delitos del Fuero Común  12508\n",
       "18                                          Homicidio  10605\n",
       "5                                            Amenazas   6758\n",
       "17                                             Fraude   5068\n",
       "2                                        Abuso sexual   3475\n",
       "28  Otros delitos que atentan contra la libertad p...   2612\n",
       "10                                            Despojo   2436\n",
       "1                                  Abuso de confianza   1963\n",
       "4                              Allanamiento de morada   1800\n",
       "37                                   Violación simple   1560\n",
       "30  Otros delitos que atentan contra la vida y la ...   1110\n",
       "24                 Otros delitos contra el patrimonio    819\n",
       "9           Delitos cometidos por servidores públicos    576\n",
       "29  Otros delitos que atentan contra la libertad y...    543\n",
       "7                               Corrupción de menores    417\n",
       "13                                          Extorsión    399\n",
       "36                               Violación equiparada    377\n",
       "14                                           Falsedad    359\n",
       "25                    Otros delitos contra la familia    353\n",
       "35                                 Tráfico de menores    340\n",
       "15                                      Falsificación    301\n",
       "26                   Otros delitos contra la sociedad    293\n",
       "3                                        Acoso sexual    272\n",
       "16                                        Feminicidio    242\n",
       "31                                              Rapto     60\n",
       "19                               Hostigamiento sexual     58\n",
       "33                                          Secuestro     49\n",
       "0                                              Aborto     39\n",
       "38  Violencia de género en todas sus modalidades d...     29\n",
       "12                                  Evasión de presos     10\n",
       "6                            Contra el medio ambiente      9\n",
       "11                                        Electorales      6\n",
       "20                                            Incesto      5\n",
       "34                                  Trata de personas      4"
      ]
     },
     "execution_count": 8,
     "metadata": {},
     "output_type": "execute_result"
    }
   ],
   "source": [
    "typed= dfson.groupby(\"Tipo de delito\").sum()[\"Total\"].reset_index().sort_values(by=\"Total\", ascending=False)\n",
    "        \n",
    "typed"
   ]
  },
  {
   "cell_type": "code",
   "execution_count": 9,
   "metadata": {
    "id": "RgnaMAcaw3SP",
    "outputId": "407dbb0d-b865-42b8-9ccf-65ddb1362fc5"
   },
   "outputs": [
    {
     "data": {
      "text/plain": [
       "<Figure size 1000x1000 with 0 Axes>"
      ]
     },
     "execution_count": 9,
     "metadata": {},
     "output_type": "execute_result"
    },
    {
     "data": {
      "image/png": "[encoded data removed]",
      "text/plain": [
       "<Figure size 640x480 with 1 Axes>"
      ]
     },
     "metadata": {},
     "output_type": "display_data"
    },
    {
     "data": {
      "text/plain": [
       "<Figure size 1000x1000 with 0 Axes>"
      ]
     },
     "metadata": {},
     "output_type": "display_data"
    }
   ],
   "source": [
    "typed.plot.bar(x=\"Tipo de delito\",y=\"Total\")\n",
    "plt.figure(figsize=(10, 10))"
   ]
  },
  {
   "cell_type": "markdown",
   "metadata": {},
   "source": [
    "# 4. Documentar su trabajo en formato libre pero de manera comprensiva.\n",
    "Documentado [aquí](https://github.com/melrepa/ICDyM/tree/main/Parte%202)."
   ]
  }
 ],
 "metadata": {
  "colab": {
   "provenance": []
  },
  "kernelspec": {
   "display_name": "Python 3 (ipykernel)",
   "language": "python",
   "name": "python3"
  },
  "language_info": {
   "codemirror_mode": {
    "name": "ipython",
    "version": 3
   },
   "file_extension": ".py",
   "mimetype": "text/x-python",
   "name": "python",
   "nbconvert_exporter": "python",
   "pygments_lexer": "ipython3",
   "version": "3.10.7"
  },
  "vscode": {
   "interpreter": {
    "hash": "a249cf8bc0c27cc3999e12a2587bd82f9424e28603995884b49a658afb734c71"
   }
  }
 },
 "nbformat": 4,
 "nbformat_minor": 4
}
